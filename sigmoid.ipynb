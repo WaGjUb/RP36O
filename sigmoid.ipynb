{
 "cells": [
  {
   "cell_type": "markdown",
   "metadata": {},
   "source": [
    "# Neurônio Sigmóide\n"
   ]
  },
  {
   "cell_type": "code",
   "execution_count": null,
   "metadata": {},
   "outputs": [],
   "source": [
    "%matplotlib inline\n",
    "from sklearn.datasets import load_iris\n",
    "import matplotlib.pyplot as plt\n",
    "import numpy as np\n",
    "import random"
   ]
  },
  {
   "cell_type": "markdown",
   "metadata": {},
   "source": [
    "## Funções auxiliares\n",
    "\n",
    "Estas funções servem para ajudar a analisar o funcionamento do perceptron. Em especial, a função acc_perceptron abaixo retorna a acurácia do perceptron em um conjunto de dados X e rótulos Y. A acurácia é dada por:\n",
    "\n",
    "$$acc = \\frac{\\text{acertos}}{\\text{acertos}+\\text{erros}}$$\n",
    "\n",
    "Desta forma a acurácia é um número que vai de $0$ a $1$ e indica a proporção de acertos em relação ao número total de exemplos."
   ]
  },
  {
   "cell_type": "code",
   "execution_count": null,
   "metadata": {},
   "outputs": [],
   "source": [
    "#Plota as características feature_idxs (lista com 2 indíces de características)\n",
    "#X é um vetor onde todos os elementos antes do sep_idxs são da classe 1 e \n",
    "#todos de sep_idxs + 1 até o fim são da classe 2.\n",
    "def plot_features(X, sep_idx, feature_idxs):\n",
    "    c1 = 'red'\n",
    "    c2 = 'green'\n",
    "    \n",
    "    f1_a = []\n",
    "    f2_a = []\n",
    "    f1_b = []\n",
    "    f2_b = []\n",
    "    \n",
    "    for i in X[:sep_idx]:\n",
    "        f1_a.append(i[feature_idxs[0]])\n",
    "        f2_a.append(i[feature_idxs[1]])\n",
    "    \n",
    "    for i in X[sep_idx + 1:]:\n",
    "        f1_b.append(i[feature_idxs[0]])\n",
    "        f2_b.append(i[feature_idxs[1]])   \n",
    "        \n",
    "    plt.scatter(f1_a, f2_a, c=c1)\n",
    "    plt.scatter(f1_b, f2_b, c=c2)\n",
    "\n",
    "#Retorna a acurácia do perceptron. X e Y são vetores paralelos e w é o vetor de pesos.\n",
    "def acc_perceptron(X, Y, w):\n",
    "    hits = float(0)\n",
    "    misses = float(0)\n",
    "    for n in xrange(len(X)):\n",
    "        x_n = X[n]\n",
    "        d_n = d(Y, n)\n",
    "        y_n = decision(eval_sigmoid_neuron(x_n, w))\n",
    "        if (d_n - y_n) == 0:\n",
    "            hits+=1\n",
    "        else:\n",
    "            misses+=1\n",
    "            \n",
    "    return hits/(hits+misses)\n",
    "    "
   ]
  },
  {
   "cell_type": "markdown",
   "metadata": {},
   "source": [
    "## Implementação do Neurônio Sigmóide\n",
    "\n",
    "### Treinamento com a descida do gradiente\n",
    "\n"
   ]
  },
  {
   "cell_type": "code",
   "execution_count": null,
   "metadata": {},
   "outputs": [],
   "source": [
    "#Função de decisão: arbitrariamente: x > 0.5 é classe positiva e x <= 0.5 é classe negativa.\n",
    "def decision(x):\n",
    "    return 1 if x > 0.5 else -1\n",
    "\n",
    "#Função d que indica a saída desejada. Note a classe 0 está mapeada para 1, enquanto \n",
    "#as outras estão mapeadas para -1\n",
    "def d(targets, idx):\n",
    "    return 1 if targets[idx] == 0 else -1\n",
    "\n",
    "def sigmoid(x):\n",
    "    return 1 / (1 + np.exp(-x))\n",
    "\n",
    "def sigmoid_dx(x):\n",
    "    return np.exp(-x) / (1 + np.exp(-x))**2\n",
    "\n",
    "#Avaliação do neurônio sigmóide\n",
    "def eval_sigmoid_neuron(x, w):\n",
    "    return sigmoid(np.dot(x,w))\n",
    "\n",
    "#Treinamento do neurônio sigmóide\n",
    "def fit_neuron(X, Y, eta, shuffle=True,w_inicial=None):\n",
    "    if shuffle:\n",
    "        s= np.arange(len(X))\n",
    "        np.random.shuffle(s)\n",
    "        X = X[s]\n",
    "        Y = Y[s]\n",
    "    \n",
    "    #inicializar vetor de pesos com todos os valores em 0 caso um w_inicial não seja passado.\n",
    "    w = w_inicial if w_inicial is not None else np.zeros(X.shape[1])\n",
    "    \n",
    "    for k in xrange(1):\n",
    "        for n in xrange(len(X)):\n",
    "            x_n = X[n]\n",
    "            y_n = eval_sigmoid_neuron(x_n, w)\n",
    "            grad = (y_n - d(Y, n)) * (sigmoid_dx(np.dot(x_n,w)) * x_n)\n",
    "            w = w - eta * grad        \n",
    "    return w"
   ]
  },
  {
   "cell_type": "markdown",
   "metadata": {},
   "source": [
    "## Bancada de Testes do Neurônio Sigmóide\n"
   ]
  },
  {
   "cell_type": "code",
   "execution_count": null,
   "metadata": {},
   "outputs": [],
   "source": [
    "dataset = load_iris()\n",
    "\n",
    "X = dataset.data\n",
    "Y = dataset.target\n",
    "\n",
    "#adicionar a coluna de 1's (bias)\n",
    "X = np.insert(X, 0, np.array([1] * len(X)), axis=1)\n",
    "\n",
    "#usar os 100 primeiros exemplos e 2 primeiras características (e o bias na primeira coluna).\n",
    "#Escolhi os 100 primeiros pq os 50 primeiros são da classe 0 e os próximos 50 são da classe 1.\n",
    "X = X[:100,:3]\n",
    "#recuperar também os rótulos dos 100 primeiros exemplos\n",
    "Y = Y[:100]\n",
    "\n",
    "#Treinar o perceptron\n",
    "w = fit_neuron(X, Y, eta=0.1, shuffle=True)\n",
    "print('vetor de pesos apos o treino: %s' % str(w))\n",
    "\n",
    "#plotar as features!\n",
    "plot_features(X, 50, [1,2])\n",
    "\n",
    "#plotar a fronteira de decisão\n",
    "xdb = np.linspace(np.min(X[:,1]),np.max(X[:,1]),20)\n",
    "ydb = map(lambda x: (-w[1]/w[2])*x + (-w[0]/w[2]), xdb)\n",
    "plt.plot(xdb, ydb)\n",
    "\n",
    "print('Acurácia: %.2f' % acc_perceptron(X, Y, w))\n"
   ]
  },
  {
   "cell_type": "code",
   "execution_count": null,
   "metadata": {},
   "outputs": [],
   "source": [
    "w = fit_neuron(X, Y, eta=0.1, shuffle=True, w_inicial=w)\n",
    "#plotar as features!\n",
    "plot_features(X, 50, [1,2])\n",
    "\n",
    "#plotar a fronteira de decisão\n",
    "xdb = np.linspace(np.min(X[:,1]),np.max(X[:,1]),20)\n",
    "ydb = map(lambda x: (-w[1]/w[2])*x + (-w[0]/w[2]), xdb)\n",
    "plt.plot(xdb, ydb)\n",
    "\n",
    "print('Acurácia: %.2f' % acc_perceptron(X, Y, w))"
   ]
  }
 ],
 "metadata": {
  "kernelspec": {
   "display_name": "Python 2",
   "language": "python",
   "name": "python2"
  },
  "language_info": {
   "codemirror_mode": {
    "name": "ipython",
    "version": 2
   },
   "file_extension": ".py",
   "mimetype": "text/x-python",
   "name": "python",
   "nbconvert_exporter": "python",
   "pygments_lexer": "ipython2",
   "version": "2.7.14"
  }
 },
 "nbformat": 4,
 "nbformat_minor": 1
}
